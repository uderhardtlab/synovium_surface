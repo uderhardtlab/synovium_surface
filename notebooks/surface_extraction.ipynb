{
 "cells": [
  {
   "cell_type": "code",
   "execution_count": 1,
   "id": "4abcfb28-dd0b-46ad-9fab-82fd9736985f",
   "metadata": {},
   "outputs": [],
   "source": [
    "%load_ext autoreload\n",
    "%autoreload 2"
   ]
  },
  {
   "cell_type": "code",
   "execution_count": 2,
   "id": "ec4f430a-f397-4890-9ea4-36773ecc1850",
   "metadata": {},
   "outputs": [],
   "source": [
    "import matplotlib.pyplot as plt\n",
    "import numpy as np\n",
    "import json\n",
    "import tifffile as tf\n",
    "import sys\n",
    "sys.path.append(\"../../network_extraction/src/\")\n",
    "from real_data import write_tiff\n",
    "sys.path.append(\"../src/\")\n",
    "from surface_extraction import *"
   ]
  },
  {
   "cell_type": "code",
   "execution_count": 4,
   "id": "0ec4e0e5-4f48-4458-bb7a-f3375062ce49",
   "metadata": {},
   "outputs": [],
   "source": [
    "configs_path = \"../configs.json\"\n",
    "with open(configs_path, \"r\") as f:\n",
    "    configs = json.load(f)"
   ]
  },
  {
   "cell_type": "code",
   "execution_count": 5,
   "id": "22e0c6e3-cc9e-4f38-ae72-d53d390c31bc",
   "metadata": {},
   "outputs": [],
   "source": [
    "image = tf.imread(configs[\"CD44\"])\n",
    "x = image.shape[2]\n",
    "y = image.shape[1]"
   ]
  },
  {
   "cell_type": "code",
   "execution_count": 7,
   "id": "56c3f0ea-9689-4743-808f-b45ebf2c21aa",
   "metadata": {},
   "outputs": [],
   "source": [
    "surface = np.zeros_like(image)"
   ]
  },
  {
   "cell_type": "code",
   "execution_count": 8,
   "id": "5689720e-27ff-4e57-ac74-c93f069c29d5",
   "metadata": {},
   "outputs": [],
   "source": [
    "surface[:, y // 2:, x // 2:] = process_patch(image[:, y // 2:, x // 2:])\n",
    "surface[:, y // 2:, :x // 2] = process_patch(image[:, y // 2:, :x // 2])\n",
    "surface[:, :y // 2, x // 2:] = process_patch(image[:, :y // 2, x // 2:])\n",
    "surface[:, :y // 2:, :x // 2] = process_patch(image[:, :y // 2:, :x // 2])"
   ]
  },
  {
   "cell_type": "code",
   "execution_count": 9,
   "id": "2a4b9d6a-dd7d-4d98-bfb8-0883df32aa09",
   "metadata": {},
   "outputs": [],
   "source": [
    "write_tiff(configs, \"surface.tif\", surface)"
   ]
  },
  {
   "cell_type": "code",
   "execution_count": null,
   "id": "cd4e1462-de67-4700-b7e4-458ae06a1830",
   "metadata": {},
   "outputs": [],
   "source": []
  }
 ],
 "metadata": {
  "kernelspec": {
   "display_name": "Python 3 (ipykernel)",
   "language": "python",
   "name": "python3"
  },
  "language_info": {
   "codemirror_mode": {
    "name": "ipython",
    "version": 3
   },
   "file_extension": ".py",
   "mimetype": "text/x-python",
   "name": "python",
   "nbconvert_exporter": "python",
   "pygments_lexer": "ipython3",
   "version": "3.9.20"
  }
 },
 "nbformat": 4,
 "nbformat_minor": 5
}
